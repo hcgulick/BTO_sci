{
 "cells": [
  {
   "cell_type": "markdown",
   "id": "aeb7c623",
   "metadata": {},
   "source": [
    "# Calculating event rates for GRB from BATSE"
   ]
  },
  {
   "cell_type": "markdown",
   "id": "541f8dc2",
   "metadata": {},
   "source": [
    "### Author: Hannah Gulick"
   ]
  },
  {
   "cell_type": "code",
   "execution_count": 10,
   "id": "0d30d6b7",
   "metadata": {},
   "outputs": [],
   "source": [
    "import numpy as np\n",
    "import matplotlib.pyplot as plt\n",
    "import scipy.stats as ss\n",
    "import lmfit"
   ]
  },
  {
   "cell_type": "markdown",
   "id": "fca492b8",
   "metadata": {},
   "source": [
    "### Reading in BATSE data"
   ]
  },
  {
   "cell_type": "code",
   "execution_count": 11,
   "id": "b4fc4252",
   "metadata": {},
   "outputs": [],
   "source": [
    "BATSE_data = open('BATSE.csv').read().split(',')"
   ]
  },
  {
   "cell_type": "markdown",
   "id": "85f2040b",
   "metadata": {},
   "source": [
    "This section will need to be edited for your specific catalog:"
   ]
  },
  {
   "cell_type": "code",
   "execution_count": 23,
   "id": "4ae25327",
   "metadata": {},
   "outputs": [],
   "source": [
    "#selecting the event duration\n",
    "t90 = BATSE_data[8::6]\n",
    "\n",
    "#the BATSE catalog didn't split well in 'open' so I had to add flux values in a for loop\n",
    "phtflux = [] #units of photons/cm2/s\n",
    "for i in BATSE_data[12::6]:\n",
    "    split_data = i.split('\\n')\n",
    "    phtflux.append(split_data[0])\n",
    "    \n",
    "#again, catalog did not split well so removing '' entries from event durations\n",
    "for i in range(len(t90)):\n",
    "    if t90[i] == '':\n",
    "        t90[i] = -1"
   ]
  },
  {
   "cell_type": "code",
   "execution_count": 13,
   "id": "99c8945e",
   "metadata": {},
   "outputs": [],
   "source": [
    "#making entries in the time and flux arrays into floats\n",
    "t90 = np.array(t90).astype(float)\n",
    "phtflux = np.array(phtflux).astype(float)"
   ]
  },
  {
   "cell_type": "code",
   "execution_count": 14,
   "id": "92c373a3",
   "metadata": {},
   "outputs": [
    {
     "name": "stdout",
     "output_type": "stream",
     "text": [
      "There are 2145 GRB in the BATSE catalog.\n"
     ]
    }
   ],
   "source": [
    "#printing the number of data entries to cross check with how many i expected in the catalog\n",
    "print('There are %s GRB in the BATSE catalog.' %(len(t90)))"
   ]
  },
  {
   "cell_type": "markdown",
   "id": "248bb5cc",
   "metadata": {},
   "source": [
    "#### Plotting GRB disribution"
   ]
  },
  {
   "cell_type": "code",
   "execution_count": 15,
   "id": "b38266f9",
   "metadata": {},
   "outputs": [
    {
     "data": {
      "image/png": "[encoded data removed]",
      "text/plain": [
       "<Figure size 432x288 with 1 Axes>"
      ]
     },
     "metadata": {
      "needs_background": "light"
     },
     "output_type": "display_data"
    }
   ],
   "source": [
    "plt.scatter(t90, phtflux, s = 1, c = 'orange', alpha = 0.5)\n",
    "plt.yscale('log')\n",
    "plt.xscale('log')\n",
    "plt.xlabel('Duration (s)')\n",
    "plt.ylabel('Flux (photon/cm2/s)')\n",
    "#adding the boundary between long and short GRB at 2 seconds (this doesn't exist for magnetar)\n",
    "plt.axvline(2, linestyle = 'dashed', color = 'grey', alpha = 0.5, label = '2 sec')\n",
    "plt.legend()\n",
    "plt.show()"
   ]
  },
  {
   "cell_type": "markdown",
   "id": "88231d31",
   "metadata": {},
   "source": [
    "### Finding short and long GRBs, separately"
   ]
  },
  {
   "cell_type": "markdown",
   "id": "d3612473",
   "metadata": {},
   "source": [
    "This is not needed for magnetars"
   ]
  },
  {
   "cell_type": "code",
   "execution_count": 16,
   "id": "5847af93",
   "metadata": {},
   "outputs": [],
   "source": [
    "#short GRB\n",
    "sGRB_index = []\n",
    "for i in range(len(t90)):\n",
    "    if t90[i] <= 2:\n",
    "        sGRB_index.append(i)\n",
    "        \n",
    "sGRB_flux = phtflux[sGRB_index]\n",
    "sGRB_duration = t90[sGRB_index]"
   ]
  },
  {
   "cell_type": "code",
   "execution_count": 17,
   "id": "7281222e",
   "metadata": {},
   "outputs": [
    {
     "name": "stdout",
     "output_type": "stream",
     "text": [
      "The number of short GRB is: 616\n"
     ]
    }
   ],
   "source": [
    "print('The number of short GRB is:', len(sGRB_index))"
   ]
  },
  {
   "cell_type": "code",
   "execution_count": 19,
   "id": "9a74d35b",
   "metadata": {},
   "outputs": [],
   "source": [
    "#long GRB\n",
    "lGRB_index = []\n",
    "for i in range(len(t90)):\n",
    "    if t90[i] > 2:\n",
    "        lGRB_index.append(i)\n",
    "        \n",
    "lGRB_flux = phtflux[lGRB_index]\n",
    "lGRB_duration = t90[lGRB_index]"
   ]
  },
  {
   "cell_type": "code",
   "execution_count": 20,
   "id": "7aab4ebc",
   "metadata": {},
   "outputs": [
    {
     "name": "stdout",
     "output_type": "stream",
     "text": [
      "The number of long GRB is: 1529\n"
     ]
    }
   ],
   "source": [
    "print('The number of long GRB is:', len(lGRB_index))"
   ]
  },
  {
   "cell_type": "code",
   "execution_count": 31,
   "id": "7f0d24a3",
   "metadata": {},
   "outputs": [
    {
     "name": "stdout",
     "output_type": "stream",
     "text": [
      "Of the full BATSE catalog, 28.72 are short GRB\n"
     ]
    }
   ],
   "source": [
    "print('Of the full BATSE catalog, %.2f are short GRB' %(len(sGRB_index)/(len(t90))*100))"
   ]
  },
  {
   "cell_type": "markdown",
   "id": "be2d5b52",
   "metadata": {},
   "source": [
    "### Calculating the counts/s for short and long GRB"
   ]
  },
  {
   "cell_type": "markdown",
   "id": "6a1c8f87",
   "metadata": {},
   "source": [
    "The BATSE flux data is in units of photons/cm^2/s. We want to calculate the flux in terms of photons/s, therefore we need to multiply the flux in (photons/cm^2/s) by the collecting area of our instrument. In gamma-ray instrumentation, this is often called the 'effective area'. You will need to find the effective are of your instrument for ALL detectors included in the flux count (i.e. some instruments have more than one detector)."
   ]
  },
  {
   "cell_type": "code",
   "execution_count": 24,
   "id": "b2e4f543",
   "metadata": {},
   "outputs": [],
   "source": [
    "#change this to reflect the effective area of your instrument. good to add your source too\n",
    "area = 1100 #cm2 for BATSE from https://www.researchgate.net/publication/51889049_The_Second_Swift_BAT_Gamma-Ray_Burst_Catalog"
   ]
  },
  {
   "cell_type": "code",
   "execution_count": 67,
   "id": "046ccec6",
   "metadata": {},
   "outputs": [],
   "source": [
    "#calculating total flux in terms of counts\n",
    "counts_p_s_sGRB = np.array(sGRB_flux*area) #units: photons/s\n",
    "counts_p_s_lGRB = np.array(lGRB_flux*area) #units: photons/s"
   ]
  },
  {
   "cell_type": "markdown",
   "id": "6ec7131c",
   "metadata": {},
   "source": [
    "### Making histograms of total counts and fitting"
   ]
  },
  {
   "cell_type": "markdown",
   "id": "c8f6ecd9",
   "metadata": {},
   "source": [
    "We want to make a histogram to show the number of GRB with a given total count value. This shows us how many GRB will give XXX amount of photons."
   ]
  },
  {
   "cell_type": "code",
   "execution_count": 122,
   "id": "c3701574",
   "metadata": {},
   "outputs": [],
   "source": [
    "def lmfit_exp(A, x, tau):\n",
    "    return A*np.exp(-x/tau)\n",
    "\n",
    "def plot_fit_hist(data, bin_num, x_label):\n",
    "    \n",
    "    '''\n",
    "    Inputs:\n",
    "        data = data array (i.e. fluence or photon/s)\n",
    "        bin_num = number of bins\n",
    "        to highlight the lower fluence end of the histrogram.\n",
    "        x_label = label for x-axis (i.e. fluence (with UNITS), or photons/s)\n",
    "    '''\n",
    "    \n",
    "    #making a histogram\n",
    "    counts,bin_edges = np.histogram(data, bin_num, density = False)\n",
    "    #finding center of bins for plotting\n",
    "    bin_centres = (bin_edges[:-1] + bin_edges[1:])/2.\n",
    "    \n",
    "    #fitting an exponential to the histogram\n",
    "    mod = lmfit.models.ExponentialModel()\n",
    "    pars = mod.guess(counts, x=bin_centres)\n",
    "    out = mod.fit(counts, pars, x=bin_centres)\n",
    "    #print(out.fit_report())\n",
    "    \n",
    "    \n",
    "    #reading out results\n",
    "    results = out.fit_report().split()\n",
    "    print(results)\n",
    "    amp = float(results[42])\n",
    "    amp_err = float(results[44])\n",
    "    decay = float(results[50])\n",
    "    decay_err = float(results[52])\n",
    "    \n",
    "    ### PLOTTING ####\n",
    "\n",
    "    x_new = np.linspace(min(bin_centres), max(bin_centres), 500)\n",
    "    # histogram on linear scale\n",
    "    plt.figure(figsize = (11,8))\n",
    "    plt.subplot(211)\n",
    "    hist, bins, _ = plt.hist(data, density = False, bins=bin_num, fc = 'None', ec = 'black')\n",
    "    plt.plot(x_new, lmfit_exp(amp, x_new, decay), color = 'red', linestyle = 'dashed', label=\"Exponential Fit\")\n",
    "    plt.ylabel('Number of GRB', fontsize = 19)\n",
    "    #plotting a vertical line indicating what our estimated background rate is for BTO.\n",
    "    #NOTE not a great direct comparison bc BATSE, GBM, etc. will have their own, different background rates\n",
    "    plt.axvline(60.9, linestyle = 'dotted', color = 'grey', alpha = 0.9, label = 'Background Rate: 60.9 count/s')\n",
    "    plt.xlabel(x_label, fontsize = 19)\n",
    "    plt.xticks(fontsize = 17)\n",
    "    plt.yticks(fontsize = 17)\n",
    "    plt.legend(fontsize = 15)\n",
    "    plt.show()\n",
    "\n",
    "    print('The exponential fit parameters are: amplitude = %.2f +/- %.4f, decay = %.2f +/- %.2f' %(amp, amp_err, decay, decay_err))\n",
    "\n",
    "    return bins, hist\n",
    "    \n",
    "    "
   ]
  },
  {
   "cell_type": "markdown",
   "id": "91824559",
   "metadata": {},
   "source": [
    "##### short GRB"
   ]
  },
  {
   "cell_type": "code",
   "execution_count": 123,
   "id": "5af6343f",
   "metadata": {},
   "outputs": [
    {
     "name": "stdout",
     "output_type": "stream",
     "text": [
      "['[[Model]]', 'Model(exponential)', '[[Fit', 'Statistics]]', '#', 'fitting', 'method', '=', 'leastsq', '#', 'function', 'evals', '=', '67', '#', 'data', 'points', '=', '100', '#', 'variables', '=', '2', 'chi-square', '=', '4976.15505', 'reduced', 'chi-square', '=', '50.7770923', 'Akaike', 'info', 'crit', '=', '394.724261', 'Bayesian', 'info', 'crit', '=', '399.934601', '[[Variables]]', 'amplitude:', '272.326380', '+/-', '11.6630585', '(4.28%)', '(init', '=', '0.0008926223)', 'decay:', '733.305654', '+/-', '39.3961272', '(5.37%)', '(init', '=', '803.8643)', '[[Correlations]]', '(unreported', 'correlations', 'are', '<', '0.100)', 'C(amplitude,', 'decay)', '=', '-0.791']\n"
     ]
    },
    {
     "data": {
      "image/png": "[encoded data removed]",
      "text/plain": [
       "<Figure size 792x576 with 1 Axes>"
      ]
     },
     "metadata": {
      "needs_background": "light"
     },
     "output_type": "display_data"
    },
    {
     "name": "stdout",
     "output_type": "stream",
     "text": [
      "The exponential fit parameters are: amplitude = 272.33 +/- 11.6631, decay = 733.31 +/- 39.40\n"
     ]
    }
   ],
   "source": [
    "bins_sGRB, hist_sGRB = plot_fit_hist(counts_p_s_sGRB, 100, 'Counts/s')"
   ]
  },
  {
   "cell_type": "markdown",
   "id": "eb9a27de",
   "metadata": {},
   "source": [
    "##### long GRB"
   ]
  },
  {
   "cell_type": "code",
   "execution_count": 71,
   "id": "98e491be",
   "metadata": {},
   "outputs": [
    {
     "data": {
      "image/png": "[encoded data removed]",
      "text/plain": [
       "<Figure size 792x576 with 1 Axes>"
      ]
     },
     "metadata": {
      "needs_background": "light"
     },
     "output_type": "display_data"
    },
    {
     "name": "stdout",
     "output_type": "stream",
     "text": [
      "The exponential fit parameters are: amplitude = 244.04 +/- 13.9045, decay = 1295.85 +/- 95.01\n"
     ]
    }
   ],
   "source": [
    "bins_lGRB, hist_lGRB = plot_fit_hist(counts_p_s_lGRB, 200, 'Counts/s')"
   ]
  },
  {
   "cell_type": "markdown",
   "id": "e5221f7f",
   "metadata": {},
   "source": [
    "### Determining the number of GRB per 1 day"
   ]
  },
  {
   "cell_type": "markdown",
   "id": "c3ef97a7",
   "metadata": {},
   "source": [
    "Now we want to determine how many GRB (short and long) that we would expect in a given time period, i.e. over a day (as calculated in this notebook).\n",
    "\n",
    "To do this, we need to know the total observing time it took to detect the objects in the catalog.\n",
    "\n",
    "The BATSE catalog used in MEGAlib (and this analysis) is from https://iopscience.iop.org/article/10.1088/0067-0049/208/2/21. They list the effective exposure time of BATSE as 2390 days. Therefore, it took 2390 days of observing to detect these 2145 GRB."
   ]
  },
  {
   "cell_type": "code",
   "execution_count": 73,
   "id": "7d161180",
   "metadata": {},
   "outputs": [],
   "source": [
    "BATSE_dur = 2390 #days"
   ]
  },
  {
   "cell_type": "markdown",
   "id": "fb40a2ce",
   "metadata": {},
   "source": [
    "To determine the number of GRB detected per day, we can just take the total number of GRB in the catalog divided by the effective exposure time."
   ]
  },
  {
   "cell_type": "code",
   "execution_count": 74,
   "id": "782382cd",
   "metadata": {},
   "outputs": [
    {
     "name": "stdout",
     "output_type": "stream",
     "text": [
      "The rate of GRB detections made by BATSE was 0.90 GRB/day.\n"
     ]
    }
   ],
   "source": [
    "print('The rate of GRB detections made by BATSE was %.2f GRB/day.' %(len(t90)/BATSE_dur)) #GRB/day"
   ]
  },
  {
   "cell_type": "code",
   "execution_count": 77,
   "id": "9b107ebc",
   "metadata": {},
   "outputs": [
    {
     "name": "stdout",
     "output_type": "stream",
     "text": [
      "Therefore, an average time between GRB is 1.114 days\n"
     ]
    }
   ],
   "source": [
    "#calculating how many days between GRB\n",
    "ave_GRB_interval = (1/(len(t90)/BATSE_dur))\n",
    "print('Therefore, an average time between GRB is %.3f days' %(ave_GRB_interval))"
   ]
  },
  {
   "cell_type": "markdown",
   "id": "d17c10f4",
   "metadata": {},
   "source": [
    "### Determine the rate of GRB with a given counts/s per day"
   ]
  },
  {
   "cell_type": "markdown",
   "id": "f6b8e465",
   "metadata": {},
   "source": [
    "Now, we want to make a histogram of the number of GRB with a given count rate (i.e. 1000 counts/s) happen in a day. We can use this histogram to estimate how frequently we will detect a GRB with an i.e. 1000 counts/s rate.\n",
    "\n",
    "To do this, we divide our histogram (of the number of GRB with a given count rate) by the total observation time (in days).\n",
    "\n",
    "You can think of the units of this results as: Number of GRB with a given counts/s per day"
   ]
  },
  {
   "cell_type": "code",
   "execution_count": 75,
   "id": "b8421d1e",
   "metadata": {},
   "outputs": [],
   "source": [
    "lGRB_day = hist_lGRB/(BATSE_dur) #counts/s per day\n",
    "sGRB_day = hist_sGRB/(BATSE_dur) #counts/s per day"
   ]
  },
  {
   "cell_type": "markdown",
   "id": "c91b282a",
   "metadata": {},
   "source": [
    "##### Note: I am only doing the calculation for long GRB below"
   ]
  },
  {
   "cell_type": "code",
   "execution_count": 92,
   "id": "7acb0ff4",
   "metadata": {},
   "outputs": [
    {
     "data": {
      "image/png": "[encoded data removed]",
      "text/plain": [
       "<Figure size 432x288 with 1 Axes>"
      ]
     },
     "metadata": {
      "needs_background": "light"
     },
     "output_type": "display_data"
    },
    {
     "data": {
      "image/png": "[encoded data removed]",
      "text/plain": [
       "<Figure size 432x288 with 1 Axes>"
      ]
     },
     "metadata": {
      "needs_background": "light"
     },
     "output_type": "display_data"
    }
   ],
   "source": [
    "#plotting distribution for long GRB\n",
    "plt.plot(bins_lGRB[:-1], lGRB_day)\n",
    "plt.ylabel('Number of GRB / day')\n",
    "plt.xlabel('Counts/s')\n",
    "plt.show()\n",
    "\n",
    "#plotting a zoomed-in version that is easier to see\n",
    "#plotting distribution\n",
    "plt.plot(bins_lGRB[:-1], lGRB_day)\n",
    "plt.ylabel('Number of GRB / day')\n",
    "plt.xlabel('Counts/s')\n",
    "plt.xlim(0, 5000)\n",
    "#finding the event rate that occurs most frequently\n",
    "plt.axvline(max(lGRB_day), linestyle = 'dashed', color = 'red', label = 'Peak rate: %.2f counts/s' %(bins_lGRB[list(lGRB_day).index(max(lGRB_day))]))\n",
    "plt.legend()\n",
    "plt.show()\n"
   ]
  },
  {
   "cell_type": "markdown",
   "id": "2c3b89d7",
   "metadata": {},
   "source": [
    "For example, from the plot above we would expect ~0.1 GRB with a count rate of ~471 counts/s every day."
   ]
  },
  {
   "cell_type": "markdown",
   "id": "191b2c5c",
   "metadata": {},
   "source": [
    "### Creating a random sample of 'observed' GRB from the above distribution"
   ]
  },
  {
   "cell_type": "markdown",
   "id": "825e7542",
   "metadata": {},
   "source": [
    "To find the total estimated data rates from GRB events in a single day, we need to estimate the total number of counts from GRB. We can do this using our distribution above, which tells use exactly the frequency we would expect to have GRB with different count rates."
   ]
  },
  {
   "cell_type": "markdown",
   "id": "f992c7c2",
   "metadata": {},
   "source": [
    "We can 'simulate' GRB for a given observation time by sampling the x-axis in the plot above, where we weight our choices by the y-axis value. This just means that the higher the y-axis value (i.e. the Number of GRB/day), the more likely it is to get the corresponding x-axis value (i.e. the counts/s). For example, the count/rate of 471 counts/s has the highest rate of GRB/day and is therefore the most likely count rate in our weighted distribution.\n",
    "\n",
    "To weight our distribution, the sum of the y-axis values must be equal to 1 (this is just a stats thing)---therefore we divide each y-axis value by the sum of the y-axis values:"
   ]
  },
  {
   "cell_type": "code",
   "execution_count": 93,
   "id": "657e2044",
   "metadata": {},
   "outputs": [],
   "source": [
    "norm_lGRB_day = np.array(lGRB_day)/sum(lGRB_day)"
   ]
  },
  {
   "cell_type": "code",
   "execution_count": 94,
   "id": "4f4687a1",
   "metadata": {},
   "outputs": [
    {
     "name": "stdout",
     "output_type": "stream",
     "text": [
      "1.0000000000000004\n"
     ]
    }
   ],
   "source": [
    "# cross check that this equals 1:\n",
    "print(sum(norm_lGRB_day))"
   ]
  },
  {
   "cell_type": "markdown",
   "id": "788e5728",
   "metadata": {},
   "source": [
    "Now we randomly select our GRB from the weighted distribution:"
   ]
  },
  {
   "cell_type": "code",
   "execution_count": 95,
   "id": "92334e25",
   "metadata": {},
   "outputs": [
    {
     "name": "stdout",
     "output_type": "stream",
     "text": [
      "Random counts value: 650.8149999999999\n"
     ]
    }
   ],
   "source": [
    "#selecting a single GRB event. Each time you execute this cell you will get a different GRB\n",
    "rand_counts = np.random.choice(bins_lGRB[:-1], p=norm_lGRB_day)\n",
    "print('Random counts value:', rand_counts)"
   ]
  },
  {
   "cell_type": "markdown",
   "id": "6c940c59",
   "metadata": {},
   "source": [
    "### Creating a random sample of GRB counts over a few days"
   ]
  },
  {
   "cell_type": "markdown",
   "id": "36843d38",
   "metadata": {},
   "source": [
    "Since COSI will not downlink at evenly spaced intervals in time, we need to use the longest possible time between downlinks to determine how much storage we need onboard--this longest time is 1/2 a day. Below, I take a time duration of 5 days.\n",
    "\n",
    "Using the BATSE use catalog (and the math above), the average interval between GRB (1.114 days) so we expect a sample of ~4 GRB over 5 days."
   ]
  },
  {
   "cell_type": "code",
   "execution_count": 105,
   "id": "867a8e95",
   "metadata": {},
   "outputs": [
    {
     "name": "stdout",
     "output_type": "stream",
     "text": [
      "There will be ~4.49 GRB over the effective exposure time of 5 days.\n"
     ]
    }
   ],
   "source": [
    "#the effective exposure time for the calculation\n",
    "effect_exp = 5 #days\n",
    "#calculating how many GRB we expect over this exposure time\n",
    "num_GRB_over_exp_calc = 5/ave_GRB_interval\n",
    "print('There will be ~%.2f GRB over the effective exposure time of %s days.' %(num_GRB_over_exp_calc, effect_exp))"
   ]
  },
  {
   "cell_type": "code",
   "execution_count": 106,
   "id": "ccb70b31",
   "metadata": {},
   "outputs": [],
   "source": [
    "# we can't have a non-integer number of GRB, so converting value to integer\n",
    "num_GRB_over_exp = int(num_GRB_over_exp_calc)"
   ]
  },
  {
   "cell_type": "markdown",
   "id": "fdc2d126",
   "metadata": {},
   "source": [
    "Now, create your population! (Note, values will change every time you execute the cell below)"
   ]
  },
  {
   "cell_type": "code",
   "execution_count": 107,
   "id": "7aeb60ad",
   "metadata": {},
   "outputs": [],
   "source": [
    "rand_GRB_counts = []\n",
    "for i in range(num_GRB_over_exp):\n",
    "    rand_GRB_counts.append(np.random.choice(bins_lGRB[:-1], p=norm_lGRB_day))"
   ]
  },
  {
   "cell_type": "markdown",
   "id": "0d993ad8",
   "metadata": {},
   "source": [
    "This returns GRB with counts/s of:"
   ]
  },
  {
   "cell_type": "code",
   "execution_count": 108,
   "id": "82ddfbca",
   "metadata": {},
   "outputs": [
    {
     "name": "stdout",
     "output_type": "stream",
     "text": [
      "Our 4 simulated GRB have rates of: [297.605, 1180.6299999999999, 2063.6549999999997, 1887.05] counts/s\n"
     ]
    }
   ],
   "source": [
    "print('Our %s simulated GRB have rates of: %s counts/s' %(num_GRB_over_exp, rand_GRB_counts))"
   ]
  },
  {
   "cell_type": "markdown",
   "id": "d2c3210b",
   "metadata": {},
   "source": [
    "### Visualizing our GRB"
   ]
  },
  {
   "cell_type": "markdown",
   "id": "f6e0d959",
   "metadata": {},
   "source": [
    "Below, we make a graph that shows the random GRB at evenly spaced intervals over our observation period. This is just to visualize the different count rates at different times."
   ]
  },
  {
   "cell_type": "code",
   "execution_count": 117,
   "id": "307bccb2",
   "metadata": {},
   "outputs": [],
   "source": [
    "#creating x-axis with all zeros\n",
    "zero_array = np.zeros(100)"
   ]
  },
  {
   "cell_type": "code",
   "execution_count": 118,
   "id": "bfa691f7",
   "metadata": {},
   "outputs": [],
   "source": [
    "##placing the GRB at even intervals across the array\n",
    "GRB_array_p_s = zero_array\n",
    "spacing = len(zero_array)/num_GRB_over_exp\n",
    "for i in range(num_GRB_over_exp):\n",
    "    GRB_array_p_s[int(i*spacing+spacing/2)] = rand_GRB_counts[i]"
   ]
  },
  {
   "cell_type": "code",
   "execution_count": 120,
   "id": "bab9d83e",
   "metadata": {},
   "outputs": [
    {
     "data": {
      "image/png": "[encoded data removed]",
      "text/plain": [
       "<Figure size 792x360 with 1 Axes>"
      ]
     },
     "metadata": {
      "needs_background": "light"
     },
     "output_type": "display_data"
    }
   ],
   "source": [
    "#plotting\n",
    "time = np.linspace(0, 5, 100)\n",
    "\n",
    "plt.figure(figsize = (11, 5))\n",
    "plt.plot(time, GRB_array_p_s, color = 'black', linewidth = 1)\n",
    "plt.xlabel('Time (days)', fontsize = 19)\n",
    "plt.ylabel('Counts/s (w/o background)', fontsize = 19)\n",
    "plt.xticks(fontsize = 15)\n",
    "plt.yticks(fontsize = 15)\n",
    "#plt.yscale('log')\n",
    "plt.show()"
   ]
  },
  {
   "cell_type": "markdown",
   "id": "745c0d6e",
   "metadata": {},
   "source": [
    "### Final remark:"
   ]
  },
  {
   "cell_type": "markdown",
   "id": "e6b2f87b",
   "metadata": {},
   "source": [
    "Okay, so we just did all of these calculations for BATSE (or whichever instrument you are working with). But we really want them for BTO.\n",
    "\n",
    "We can run simulations with MEGAlib (which we will do) but an easy estimate can be made by scaling the effective are of your instrument with BTO's effective area. Try recreating all these plots but scale them with BTO's effective area to better show the rates we expect with our instrument. Hint 1: BTO's effective area on one long side is 28.88 cm2 and on the top is 14.44 cm2 (these would be separate scalings that just indicate which side of the detector the GRB entered from---you don't need to combine). Hint 2: your numbers should go down."
   ]
  },
  {
   "cell_type": "markdown",
   "id": "e1ed9ad9",
   "metadata": {},
   "source": [
    "After this calculation we will calculate totals bits (yay)"
   ]
  },
  {
   "cell_type": "code",
   "execution_count": null,
   "id": "c4cb1429",
   "metadata": {},
   "outputs": [],
   "source": []
  }
 ],
 "metadata": {
  "kernelspec": {
   "display_name": "Python 3 (ipykernel)",
   "language": "python",
   "name": "python3"
  },
  "language_info": {
   "codemirror_mode": {
    "name": "ipython",
    "version": 3
   },
   "file_extension": ".py",
   "mimetype": "text/x-python",
   "name": "python",
   "nbconvert_exporter": "python",
   "pygments_lexer": "ipython3",
   "version": "3.9.12"
  }
 },
 "nbformat": 4,
 "nbformat_minor": 5
}
